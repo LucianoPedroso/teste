{
 "cells": [
  {
   "cell_type": "markdown",
   "id": "d51e22c4",
   "metadata": {},
   "source": [
    "## Processo Seletivo AEVO\n",
    "Canditato: Luciano Tadeu Pedroso Albano Pereira"
   ]
  },
  {
   "cell_type": "markdown",
   "id": "bcb71dbc",
   "metadata": {},
   "source": [
    "Objetivo: Com base o conjunto de dados da Loja America, disponivel na internet, criar um modelo de aprendizado de utilizando técnicas de NLP que seja capaz de categoriza os feedback dos clientes nas seguintes categoria: (possitivo ou negativo)"
   ]
  },
  {
   "cell_type": "markdown",
   "id": "20b2ccf3",
   "metadata": {},
   "source": [
    "## Import Bibliotecas"
   ]
  },
  {
   "cell_type": "code",
   "execution_count": 1,
   "id": "5e98924a",
   "metadata": {},
   "outputs": [
    {
     "name": "stderr",
     "output_type": "stream",
     "text": [
      "[nltk_data] Downloading package punkt to\n",
      "[nltk_data]     C:\\Users\\Luciano\\AppData\\Roaming\\nltk_data...\n",
      "[nltk_data]   Package punkt is already up-to-date!\n",
      "[nltk_data] Downloading package stopwords to\n",
      "[nltk_data]     C:\\Users\\Luciano\\AppData\\Roaming\\nltk_data...\n",
      "[nltk_data]   Package stopwords is already up-to-date!\n"
     ]
    }
   ],
   "source": [
    "import pandas as pd\n",
    "import numpy as np\n",
    "import seaborn as sns \n",
    "import matplotlib.pyplot as plt\n",
    "%matplotlib inLine\n",
    "from sklearn.feature_extraction.text import CountVectorizer\n",
    "import pandas as pd\n",
    "\n",
    "import nltk\n",
    "nltk.download('punkt')\n",
    "from nltk import tokenize\n",
    "nltk.download('stopwords')\n",
    "from nltk.corpus import stopwords\n",
    "stops = stopwords.words('portuguese')"
   ]
  },
  {
   "cell_type": "code",
   "execution_count": 2,
   "id": "db9946df",
   "metadata": {},
   "outputs": [],
   "source": [
    "import spacy\n",
    "#!python -m spacy download pt_core_news_lg\n",
    "nlp = spacy.load('pt_core_news_lg')"
   ]
  },
  {
   "cell_type": "markdown",
   "id": "38686c3a",
   "metadata": {},
   "source": [
    "## Aquisição de dados"
   ]
  },
  {
   "cell_type": "code",
   "execution_count": 3,
   "id": "6a132c2c",
   "metadata": {},
   "outputs": [
    {
     "name": "stderr",
     "output_type": "stream",
     "text": [
      "C:\\Users\\Luciano\\anaconda3\\lib\\site-packages\\IPython\\core\\interactiveshell.py:3165: DtypeWarning: Columns (2) have mixed types.Specify dtype option on import or set low_memory=False.\n",
      "  has_raised = await self.run_ast_nodes(code_ast.body, cell_name,\n"
     ]
    }
   ],
   "source": [
    "# Importando Conjunto de dados - Data Set\n",
    "df = pd.read_csv('B2W-Reviews01.csv' , sep = ';')"
   ]
  },
  {
   "cell_type": "code",
   "execution_count": 4,
   "id": "9b6a28af",
   "metadata": {},
   "outputs": [
    {
     "data": {
      "text/html": [
       "<div>\n",
       "<style scoped>\n",
       "    .dataframe tbody tr th:only-of-type {\n",
       "        vertical-align: middle;\n",
       "    }\n",
       "\n",
       "    .dataframe tbody tr th {\n",
       "        vertical-align: top;\n",
       "    }\n",
       "\n",
       "    .dataframe thead th {\n",
       "        text-align: right;\n",
       "    }\n",
       "</style>\n",
       "<table border=\"1\" class=\"dataframe\">\n",
       "  <thead>\n",
       "    <tr style=\"text-align: right;\">\n",
       "      <th></th>\n",
       "      <th>submission_date</th>\n",
       "      <th>reviewer_id</th>\n",
       "      <th>product_id</th>\n",
       "      <th>product_name</th>\n",
       "      <th>product_brand</th>\n",
       "      <th>site_category_lv1</th>\n",
       "      <th>site_category_lv2</th>\n",
       "      <th>review_title</th>\n",
       "      <th>overall_rating</th>\n",
       "      <th>recommend_to_a_friend</th>\n",
       "      <th>review_text</th>\n",
       "      <th>reviewer_birth_year</th>\n",
       "      <th>reviewer_gender</th>\n",
       "      <th>reviewer_state</th>\n",
       "    </tr>\n",
       "  </thead>\n",
       "  <tbody>\n",
       "    <tr>\n",
       "      <th>0</th>\n",
       "      <td>2018-01-01 00:11:28</td>\n",
       "      <td>d0fb1ca69422530334178f5c8624aa7a99da47907c44de...</td>\n",
       "      <td>132532965</td>\n",
       "      <td>Notebook Asus Vivobook Max X541NA-GO472T Intel...</td>\n",
       "      <td>NaN</td>\n",
       "      <td>Informática</td>\n",
       "      <td>Notebook</td>\n",
       "      <td>Bom</td>\n",
       "      <td>4</td>\n",
       "      <td>Yes</td>\n",
       "      <td>Estou contente com a compra entrega rápida o ú...</td>\n",
       "      <td>1958.0</td>\n",
       "      <td>F</td>\n",
       "      <td>RJ</td>\n",
       "    </tr>\n",
       "    <tr>\n",
       "      <th>1</th>\n",
       "      <td>2018-01-01 00:13:48</td>\n",
       "      <td>014d6dc5a10aed1ff1e6f349fb2b059a2d3de511c7538a...</td>\n",
       "      <td>22562178</td>\n",
       "      <td>Copo Acrílico Com Canudo 500ml Rocie</td>\n",
       "      <td>NaN</td>\n",
       "      <td>Utilidades Domésticas</td>\n",
       "      <td>Copos, Taças e Canecas</td>\n",
       "      <td>Preço imbatível, ótima qualidade</td>\n",
       "      <td>4</td>\n",
       "      <td>Yes</td>\n",
       "      <td>Por apenas R$1994.20,eu consegui comprar esse ...</td>\n",
       "      <td>1996.0</td>\n",
       "      <td>M</td>\n",
       "      <td>SC</td>\n",
       "    </tr>\n",
       "    <tr>\n",
       "      <th>2</th>\n",
       "      <td>2018-01-01 00:26:02</td>\n",
       "      <td>44f2c8edd93471926fff601274b8b2b5c4824e386ae4f2...</td>\n",
       "      <td>113022329</td>\n",
       "      <td>Panela de Pressão Elétrica Philips Walita Dail...</td>\n",
       "      <td>philips walita</td>\n",
       "      <td>Eletroportáteis</td>\n",
       "      <td>Panela Elétrica</td>\n",
       "      <td>ATENDE TODAS AS EXPECTATIVA.</td>\n",
       "      <td>4</td>\n",
       "      <td>Yes</td>\n",
       "      <td>SUPERA EM AGILIDADE E PRATICIDADE OUTRAS PANEL...</td>\n",
       "      <td>1984.0</td>\n",
       "      <td>M</td>\n",
       "      <td>SP</td>\n",
       "    </tr>\n",
       "    <tr>\n",
       "      <th>3</th>\n",
       "      <td>2018-01-01 00:35:54</td>\n",
       "      <td>ce741665c1764ab2d77539e18d0e4f66dde6213c9f0863...</td>\n",
       "      <td>113851581</td>\n",
       "      <td>Betoneira Columbus - Roma Brinquedos</td>\n",
       "      <td>roma jensen</td>\n",
       "      <td>Brinquedos</td>\n",
       "      <td>Veículos de Brinquedo</td>\n",
       "      <td>presente mais que desejado</td>\n",
       "      <td>4</td>\n",
       "      <td>Yes</td>\n",
       "      <td>MEU FILHO AMOU! PARECE DE VERDADE COM TANTOS D...</td>\n",
       "      <td>1985.0</td>\n",
       "      <td>F</td>\n",
       "      <td>SP</td>\n",
       "    </tr>\n",
       "    <tr>\n",
       "      <th>4</th>\n",
       "      <td>2018-01-01 01:00:28</td>\n",
       "      <td>7d7b6b18dda804a897359276cef0ca252f9932bf4b5c8e...</td>\n",
       "      <td>131788803</td>\n",
       "      <td>Smart TV LED 43\" LG 43UJ6525 Ultra HD 4K com C...</td>\n",
       "      <td>lg</td>\n",
       "      <td>TV e Home Theater</td>\n",
       "      <td>TV</td>\n",
       "      <td>Sem duvidas, excelente</td>\n",
       "      <td>5</td>\n",
       "      <td>Yes</td>\n",
       "      <td>A entrega foi no prazo, as americanas estão de...</td>\n",
       "      <td>1994.0</td>\n",
       "      <td>M</td>\n",
       "      <td>MG</td>\n",
       "    </tr>\n",
       "    <tr>\n",
       "      <th>5</th>\n",
       "      <td>2018-01-01 01:27:23</td>\n",
       "      <td>28b1844e1cd24dd2288b7cafb052a0b46aed53ab28e1c1...</td>\n",
       "      <td>22562178</td>\n",
       "      <td>Copo Acrílico Com Canudo 500ml Rocie</td>\n",
       "      <td>NaN</td>\n",
       "      <td>Utilidades Domésticas</td>\n",
       "      <td>Copos, Taças e Canecas</td>\n",
       "      <td>Produto imperdível</td>\n",
       "      <td>5</td>\n",
       "      <td>Yes</td>\n",
       "      <td>Excelente produto, por fora em material acríli...</td>\n",
       "      <td>1979.0</td>\n",
       "      <td>M</td>\n",
       "      <td>PA</td>\n",
       "    </tr>\n",
       "    <tr>\n",
       "      <th>6</th>\n",
       "      <td>2018-01-01 01:54:38</td>\n",
       "      <td>48907a04d70947344017b351e8fc232bfc80dae2c33ac2...</td>\n",
       "      <td>22562178</td>\n",
       "      <td>Copo Acrílico Com Canudo 500ml Rocie</td>\n",
       "      <td>NaN</td>\n",
       "      <td>Utilidades Domésticas</td>\n",
       "      <td>Copos, Taças e Canecas</td>\n",
       "      <td>ótimo</td>\n",
       "      <td>5</td>\n",
       "      <td>Yes</td>\n",
       "      <td>produto mto bom, com essa garrafinha vc pode a...</td>\n",
       "      <td>NaN</td>\n",
       "      <td>NaN</td>\n",
       "      <td>NaN</td>\n",
       "    </tr>\n",
       "    <tr>\n",
       "      <th>7</th>\n",
       "      <td>2018-01-01 01:58:17</td>\n",
       "      <td>e039cbff059effe12756772b358af4323c2157e9561da8...</td>\n",
       "      <td>132444092</td>\n",
       "      <td>Smartphone Motorola Moto G 5S Dual Chip Androi...</td>\n",
       "      <td>NaN</td>\n",
       "      <td>Celulares e Smartphones</td>\n",
       "      <td>Smartphone</td>\n",
       "      <td>Gostei bastante do produto</td>\n",
       "      <td>4</td>\n",
       "      <td>Yes</td>\n",
       "      <td>Produto excelente qualidade boa câmera desenvo...</td>\n",
       "      <td>1987.0</td>\n",
       "      <td>M</td>\n",
       "      <td>GO</td>\n",
       "    </tr>\n",
       "    <tr>\n",
       "      <th>8</th>\n",
       "      <td>2018-01-01 02:02:13</td>\n",
       "      <td>a0fd1ad35b08d3b764ad6f884ef7183bf29fc7ebfcae65...</td>\n",
       "      <td>122776350</td>\n",
       "      <td>Ventilador de Teto Ventisol Fenix Premium Bran...</td>\n",
       "      <td>ventisol</td>\n",
       "      <td>Casa e Construção</td>\n",
       "      <td>Climatização</td>\n",
       "      <td>Gostei do produto</td>\n",
       "      <td>5</td>\n",
       "      <td>Yes</td>\n",
       "      <td>O barulho e minimo e o vento é bem forte na ve...</td>\n",
       "      <td>1987.0</td>\n",
       "      <td>M</td>\n",
       "      <td>SP</td>\n",
       "    </tr>\n",
       "    <tr>\n",
       "      <th>9</th>\n",
       "      <td>2018-01-01 02:16:06</td>\n",
       "      <td>eb1cceab541aac33c21f2c2503b8a529d07a9837f8eec7...</td>\n",
       "      <td>23474928</td>\n",
       "      <td>Kit 10 Peças Fita Led 12v 5050 300 Leds Rgb + ...</td>\n",
       "      <td>NaN</td>\n",
       "      <td>Casa e Construção</td>\n",
       "      <td>Iluminação</td>\n",
       "      <td>NÃO RECEBI O PRODUTO</td>\n",
       "      <td>1</td>\n",
       "      <td>No</td>\n",
       "      <td>MEU PRODUTO NAO FOI ENTREGUE E A AMERICANAS ES...</td>\n",
       "      <td>1984.0</td>\n",
       "      <td>M</td>\n",
       "      <td>RJ</td>\n",
       "    </tr>\n",
       "  </tbody>\n",
       "</table>\n",
       "</div>"
      ],
      "text/plain": [
       "       submission_date                                        reviewer_id  \\\n",
       "0  2018-01-01 00:11:28  d0fb1ca69422530334178f5c8624aa7a99da47907c44de...   \n",
       "1  2018-01-01 00:13:48  014d6dc5a10aed1ff1e6f349fb2b059a2d3de511c7538a...   \n",
       "2  2018-01-01 00:26:02  44f2c8edd93471926fff601274b8b2b5c4824e386ae4f2...   \n",
       "3  2018-01-01 00:35:54  ce741665c1764ab2d77539e18d0e4f66dde6213c9f0863...   \n",
       "4  2018-01-01 01:00:28  7d7b6b18dda804a897359276cef0ca252f9932bf4b5c8e...   \n",
       "5  2018-01-01 01:27:23  28b1844e1cd24dd2288b7cafb052a0b46aed53ab28e1c1...   \n",
       "6  2018-01-01 01:54:38  48907a04d70947344017b351e8fc232bfc80dae2c33ac2...   \n",
       "7  2018-01-01 01:58:17  e039cbff059effe12756772b358af4323c2157e9561da8...   \n",
       "8  2018-01-01 02:02:13  a0fd1ad35b08d3b764ad6f884ef7183bf29fc7ebfcae65...   \n",
       "9  2018-01-01 02:16:06  eb1cceab541aac33c21f2c2503b8a529d07a9837f8eec7...   \n",
       "\n",
       "  product_id                                       product_name  \\\n",
       "0  132532965  Notebook Asus Vivobook Max X541NA-GO472T Intel...   \n",
       "1   22562178               Copo Acrílico Com Canudo 500ml Rocie   \n",
       "2  113022329  Panela de Pressão Elétrica Philips Walita Dail...   \n",
       "3  113851581               Betoneira Columbus - Roma Brinquedos   \n",
       "4  131788803  Smart TV LED 43\" LG 43UJ6525 Ultra HD 4K com C...   \n",
       "5   22562178               Copo Acrílico Com Canudo 500ml Rocie   \n",
       "6   22562178               Copo Acrílico Com Canudo 500ml Rocie   \n",
       "7  132444092  Smartphone Motorola Moto G 5S Dual Chip Androi...   \n",
       "8  122776350  Ventilador de Teto Ventisol Fenix Premium Bran...   \n",
       "9   23474928  Kit 10 Peças Fita Led 12v 5050 300 Leds Rgb + ...   \n",
       "\n",
       "    product_brand        site_category_lv1       site_category_lv2  \\\n",
       "0             NaN              Informática                Notebook   \n",
       "1             NaN    Utilidades Domésticas  Copos, Taças e Canecas   \n",
       "2  philips walita          Eletroportáteis         Panela Elétrica   \n",
       "3     roma jensen               Brinquedos   Veículos de Brinquedo   \n",
       "4              lg        TV e Home Theater                      TV   \n",
       "5             NaN    Utilidades Domésticas  Copos, Taças e Canecas   \n",
       "6             NaN    Utilidades Domésticas  Copos, Taças e Canecas   \n",
       "7             NaN  Celulares e Smartphones              Smartphone   \n",
       "8        ventisol        Casa e Construção            Climatização   \n",
       "9             NaN        Casa e Construção              Iluminação   \n",
       "\n",
       "                       review_title  overall_rating recommend_to_a_friend  \\\n",
       "0                               Bom               4                   Yes   \n",
       "1  Preço imbatível, ótima qualidade               4                   Yes   \n",
       "2      ATENDE TODAS AS EXPECTATIVA.               4                   Yes   \n",
       "3        presente mais que desejado               4                   Yes   \n",
       "4            Sem duvidas, excelente               5                   Yes   \n",
       "5                Produto imperdível               5                   Yes   \n",
       "6                             ótimo               5                   Yes   \n",
       "7        Gostei bastante do produto               4                   Yes   \n",
       "8                 Gostei do produto               5                   Yes   \n",
       "9              NÃO RECEBI O PRODUTO               1                    No   \n",
       "\n",
       "                                         review_text  reviewer_birth_year  \\\n",
       "0  Estou contente com a compra entrega rápida o ú...               1958.0   \n",
       "1  Por apenas R$1994.20,eu consegui comprar esse ...               1996.0   \n",
       "2  SUPERA EM AGILIDADE E PRATICIDADE OUTRAS PANEL...               1984.0   \n",
       "3  MEU FILHO AMOU! PARECE DE VERDADE COM TANTOS D...               1985.0   \n",
       "4  A entrega foi no prazo, as americanas estão de...               1994.0   \n",
       "5  Excelente produto, por fora em material acríli...               1979.0   \n",
       "6  produto mto bom, com essa garrafinha vc pode a...                  NaN   \n",
       "7  Produto excelente qualidade boa câmera desenvo...               1987.0   \n",
       "8  O barulho e minimo e o vento é bem forte na ve...               1987.0   \n",
       "9  MEU PRODUTO NAO FOI ENTREGUE E A AMERICANAS ES...               1984.0   \n",
       "\n",
       "  reviewer_gender reviewer_state  \n",
       "0               F             RJ  \n",
       "1               M             SC  \n",
       "2               M             SP  \n",
       "3               F             SP  \n",
       "4               M             MG  \n",
       "5               M             PA  \n",
       "6             NaN            NaN  \n",
       "7               M             GO  \n",
       "8               M             SP  \n",
       "9               M             RJ  "
      ]
     },
     "execution_count": 4,
     "metadata": {},
     "output_type": "execute_result"
    }
   ],
   "source": [
    "# Visualizando conjunto de dados\n",
    "df.head(10)"
   ]
  },
  {
   "cell_type": "code",
   "execution_count": 5,
   "id": "097bdeab",
   "metadata": {},
   "outputs": [
    {
     "name": "stdout",
     "output_type": "stream",
     "text": [
      "<class 'pandas.core.frame.DataFrame'>\n",
      "RangeIndex: 132373 entries, 0 to 132372\n",
      "Data columns (total 14 columns):\n",
      " #   Column                 Non-Null Count   Dtype  \n",
      "---  ------                 --------------   -----  \n",
      " 0   submission_date        132373 non-null  object \n",
      " 1   reviewer_id            132373 non-null  object \n",
      " 2   product_id             132373 non-null  object \n",
      " 3   product_name           132289 non-null  object \n",
      " 4   product_brand          40982 non-null   object \n",
      " 5   site_category_lv1      132367 non-null  object \n",
      " 6   site_category_lv2      128360 non-null  object \n",
      " 7   review_title           132373 non-null  object \n",
      " 8   overall_rating         132373 non-null  int64  \n",
      " 9   recommend_to_a_friend  132355 non-null  object \n",
      " 10  review_text            132373 non-null  object \n",
      " 11  reviewer_birth_year    126389 non-null  float64\n",
      " 12  reviewer_gender        128237 non-null  object \n",
      " 13  reviewer_state         128382 non-null  object \n",
      "dtypes: float64(1), int64(1), object(12)\n",
      "memory usage: 14.1+ MB\n"
     ]
    }
   ],
   "source": [
    "# Analisando as variaveis do Data Set\n",
    "df.info()"
   ]
  },
  {
   "cell_type": "markdown",
   "id": "b798b4ac",
   "metadata": {},
   "source": [
    "## Visualização e análise de dados"
   ]
  },
  {
   "cell_type": "markdown",
   "id": "09a97638",
   "metadata": {},
   "source": [
    "Como primeira analise estou verificando a distribuição feedback recebidos por estados"
   ]
  },
  {
   "cell_type": "code",
   "execution_count": 6,
   "id": "64c37be1",
   "metadata": {},
   "outputs": [],
   "source": [
    "df['reviewer_state'].value_counts()\n",
    "df['Qtd'] = 1\n",
    "# Agrupamento feedback para cada estato\n",
    "df_estados = df[['reviewer_state','Qtd']].groupby(['reviewer_state']).count()\n",
    "df_estados = df_estados.rename_axis('reviewer_state').reset_index()\n",
    "df_estados = df_estados.sort_values(by=['Qtd'], ascending=False)"
   ]
  },
  {
   "cell_type": "code",
   "execution_count": 7,
   "id": "4a20b361",
   "metadata": {},
   "outputs": [
    {
     "data": {
      "text/plain": [
       "<AxesSubplot:xlabel='Qtd', ylabel='reviewer_state'>"
      ]
     },
     "execution_count": 7,
     "metadata": {},
     "output_type": "execute_result"
    },
    {
     "data": {
      "image/png": "[encoded data removed]",
      "text/plain": [
       "<Figure size 1080x720 with 1 Axes>"
      ]
     },
     "metadata": {},
     "output_type": "display_data"
    }
   ],
   "source": [
    "# Grafico feedback enviados por estados\n",
    "sns.set(rc={\"figure.figsize\":(15, 10)})\n",
    "sns.barplot(data=df_estados, y='reviewer_state', x='Qtd')"
   ]
  },
  {
   "cell_type": "markdown",
   "id": "bda96971",
   "metadata": {},
   "source": [
    "Como temos registros de varios estados por saber que cada estado tem um linguaguem um pouco diferente, escolhemos inicialmente desenvolver um modelo especifico para cada estado. Nesse trabalho escolhemos ES para desenvolver esse modelo"
   ]
  },
  {
   "cell_type": "code",
   "execution_count": 8,
   "id": "4683bf01",
   "metadata": {},
   "outputs": [],
   "source": [
    "# Criando conjunto de dados somente com dados de ES\n",
    "filtro  = df['reviewer_state'] == 'ES'\n",
    "df_es = df[filtro]\n",
    "df_es.head()\n",
    "df_es = df_es.reset_index()"
   ]
  },
  {
   "cell_type": "code",
   "execution_count": 9,
   "id": "930c3d6b",
   "metadata": {},
   "outputs": [],
   "source": [
    "# Filtrando somente as colunas que vou utilizar para criar o modelo - coloca com comentarios escritos e a coluna target (positivo ou negativo)\n",
    "df_es = df_es[['review_text','recommend_to_a_friend']]"
   ]
  },
  {
   "cell_type": "code",
   "execution_count": 10,
   "id": "2e083355",
   "metadata": {},
   "outputs": [
    {
     "data": {
      "text/plain": [
       "Yes    2200\n",
       "No      852\n",
       "Name: recommend_to_a_friend, dtype: int64"
      ]
     },
     "execution_count": 10,
     "metadata": {},
     "output_type": "execute_result"
    }
   ],
   "source": [
    "# Analise distribuição do conjutno de dados\n",
    "df_es['recommend_to_a_friend'].value_counts()"
   ]
  },
  {
   "cell_type": "code",
   "execution_count": 11,
   "id": "49ddfec6",
   "metadata": {},
   "outputs": [],
   "source": [
    "# tratando coluna target - positivo/recomenda o produto = 1 negativo/ não recomenda o produto = 0\n",
    "df_es.loc[df_es['recommend_to_a_friend'] == 'Yes', 'recommend_to_a_friend'] = 1\n",
    "df_es.loc[df_es['recommend_to_a_friend'] == 'No', 'recommend_to_a_friend'] = 0"
   ]
  },
  {
   "cell_type": "markdown",
   "id": "23954661",
   "metadata": {},
   "source": [
    "Conjunto de dados desbalanceado, 72% dos dados são da classe Yes - 1 e 28% dos dados são da classe No - 0"
   ]
  },
  {
   "cell_type": "code",
   "execution_count": 12,
   "id": "c8f5221b",
   "metadata": {},
   "outputs": [],
   "source": [
    "df_es.to_csv('Dataset_nao_Lematizado_ES.csv',sep=';')"
   ]
  },
  {
   "cell_type": "markdown",
   "id": "6760699b",
   "metadata": {},
   "source": [
    "## Pré-processamento"
   ]
  },
  {
   "cell_type": "markdown",
   "id": "4167d52e",
   "metadata": {},
   "source": [
    "Nessa etapa de pré processamento dos dados utilizadou tecnicas de tokenização, lematização e remoção de stop word para tratamentos dos dados"
   ]
  },
  {
   "cell_type": "code",
   "execution_count": 13,
   "id": "1194ff1f",
   "metadata": {},
   "outputs": [
    {
     "name": "stderr",
     "output_type": "stream",
     "text": [
      "[nltk_data] Downloading package punkt to\n",
      "[nltk_data]     C:\\Users\\Luciano\\AppData\\Roaming\\nltk_data...\n",
      "[nltk_data]   Package punkt is already up-to-date!\n",
      "[nltk_data] Downloading package stopwords to\n",
      "[nltk_data]     C:\\Users\\Luciano\\AppData\\Roaming\\nltk_data...\n",
      "[nltk_data]   Package stopwords is already up-to-date!\n",
      "[nltk_data] Downloading package wordnet to\n",
      "[nltk_data]     C:\\Users\\Luciano\\AppData\\Roaming\\nltk_data...\n",
      "[nltk_data]   Package wordnet is already up-to-date!\n"
     ]
    }
   ],
   "source": [
    "import nltk\n",
    "nltk.download('punkt')\n",
    "from nltk import tokenize \n",
    "nltk.download('stopwords')\n",
    "stops = nltk.corpus.stopwords.words('portuguese')\n",
    "nltk.download('wordnet')\n",
    "from nltk.stem import PorterStemmer, WordNetLemmatizer"
   ]
  },
  {
   "cell_type": "code",
   "execution_count": 14,
   "id": "e0e18445",
   "metadata": {},
   "outputs": [],
   "source": [
    "# Rotulando dos dados - etiquetando\n",
    "def etiquetas(text):\n",
    "    df = []\n",
    "    for i in range(len(text['review_text'])):\n",
    "        a = str(text['review_text'][i])\n",
    "        b = text['recommend_to_a_friend'][i]\n",
    "        c = (a,b)\n",
    "        df.append(c)\n",
    "    return df"
   ]
  },
  {
   "cell_type": "code",
   "execution_count": 15,
   "id": "123fea3d",
   "metadata": {},
   "outputs": [],
   "source": [
    "dados = etiquetas(df_es)"
   ]
  },
  {
   "cell_type": "code",
   "execution_count": 16,
   "id": "3cac0266",
   "metadata": {},
   "outputs": [
    {
     "data": {
      "text/plain": [
       "('Pra quem gosta de qualidade com um preço acessível a todos, eis a melhor opção.',\n",
       " 1)"
      ]
     },
     "execution_count": 16,
     "metadata": {},
     "output_type": "execute_result"
    }
   ],
   "source": [
    "dados[0]"
   ]
  },
  {
   "cell_type": "markdown",
   "id": "a6ec02ad",
   "metadata": {},
   "source": [
    "Lematização"
   ]
  },
  {
   "cell_type": "code",
   "execution_count": 17,
   "id": "7ab4e54a",
   "metadata": {},
   "outputs": [],
   "source": [
    "wnl = WordNetLemmatizer()"
   ]
  },
  {
   "cell_type": "code",
   "execution_count": 18,
   "id": "2b48a2e8",
   "metadata": {},
   "outputs": [],
   "source": [
    "import spacy\n",
    "#python -m spacy download pt_core_news_lg\n",
    "nlp = spacy.load('pt_core_news_lg')"
   ]
  },
  {
   "cell_type": "code",
   "execution_count": 19,
   "id": "efa086c7",
   "metadata": {},
   "outputs": [],
   "source": [
    "# Função para lematizar o conjunto de dados\n",
    "def lema(string):\n",
    "    doc1 = string.lower()\n",
    "    doc = nlp(doc1)\n",
    "    return [token.lemma_ for token in doc]"
   ]
  },
  {
   "cell_type": "code",
   "execution_count": 20,
   "id": "db64c464",
   "metadata": {},
   "outputs": [],
   "source": [
    "# aplicando função de lematização no conjunto de dados\n",
    "dados_lematizado = []\n",
    "for i in range(len(dados)):\n",
    "    lematizar = lema(dados[i][0])\n",
    "    classe = dados[i][1]\n",
    "    dados_lematizado.append((lematizar, classe))"
   ]
  },
  {
   "cell_type": "code",
   "execution_count": 21,
   "id": "c0d6e520",
   "metadata": {},
   "outputs": [
    {
     "data": {
      "text/plain": [
       "(['dever',\n",
       "  'vir',\n",
       "  'com',\n",
       "  'capar',\n",
       "  'e',\n",
       "  'película',\n",
       "  'de',\n",
       "  'proteção',\n",
       "  ',',\n",
       "  'o',\n",
       "  'meu',\n",
       "  'cair',\n",
       "  'e',\n",
       "  'quebrar',\n",
       "  '.'],\n",
       " 1)"
      ]
     },
     "execution_count": 21,
     "metadata": {},
     "output_type": "execute_result"
    }
   ],
   "source": [
    "dados_lematizado[10]"
   ]
  },
  {
   "cell_type": "markdown",
   "id": "c0471951",
   "metadata": {},
   "source": [
    "Eliminando Stop Words"
   ]
  },
  {
   "cell_type": "code",
   "execution_count": 22,
   "id": "26a319be",
   "metadata": {},
   "outputs": [],
   "source": [
    "stops.append('Subject:')\n",
    "stops.append('.')\n",
    "stops.append('[')\n",
    "stops.append(\"'\")\n",
    "stops.append(']')\n",
    "stops.append(',')\n",
    "stops.append(':')\n",
    "stops.append('-')\n",
    "stops.append('/')\n",
    "stops.append('cc')\n",
    "stops.append('|')\n",
    "stops.append(')')\n",
    "stops.append('(')\n",
    "stops.append('+')\n",
    "stops.append('-')\n",
    "stops.append('\\n')\n",
    "stops.append('\\n ')\n",
    "stops.append('?')\n",
    "stops.append('!')\n",
    "stops.append('.')\n",
    "stops.append('+/-')\n",
    "stops.append('/-')\n",
    "stops.append('/')\n",
    "stops.append(\"   '\")\n",
    "stops.append('.')\n",
    "stops.append('50')\n",
    "stops.append('6')\n",
    "stops.append('2')\n",
    "stops.append(' ')\n",
    "stops.append('.....')\n",
    "stops.remove('não')\n",
    "\n",
    "\n",
    "# Função para remoção de stop words\n",
    "def removestopwords(text):\n",
    "    frases = []\n",
    "    for (palavras, classe) in text:\n",
    "        # Estou colocando todos as palavras que não tem as stopwords nessa variavel\n",
    "        semstops = [p for p in palavras if p not in stops]\n",
    "        frases.append((semstops, classe))\n",
    "    return frases"
   ]
  },
  {
   "cell_type": "code",
   "execution_count": 23,
   "id": "07fd2ca1",
   "metadata": {},
   "outputs": [],
   "source": [
    "# Aplicando remoção de stopword no conjunto de dados\n",
    "dados_semstps = removestopwords(dados_lematizado)"
   ]
  },
  {
   "cell_type": "code",
   "execution_count": 24,
   "id": "4cf89f0c",
   "metadata": {},
   "outputs": [
    {
     "data": {
      "text/plain": [
       "['chegar',\n",
       " 'rápido',\n",
       " 'tudo',\n",
       " 'certo',\n",
       " 'ótima',\n",
       " 'loja',\n",
       " 'cadeira',\n",
       " 'bom',\n",
       " 'bonito',\n",
       " 'valer',\n",
       " 'peno']"
      ]
     },
     "execution_count": 24,
     "metadata": {},
     "output_type": "execute_result"
    }
   ],
   "source": [
    "dados_semstps[50][0]"
   ]
  },
  {
   "cell_type": "markdown",
   "id": "4d0e9e02",
   "metadata": {},
   "source": [
    "Ajustando Dados para Utilização do Modelo de Classificação"
   ]
  },
  {
   "cell_type": "code",
   "execution_count": 25,
   "id": "812d46b8",
   "metadata": {},
   "outputs": [],
   "source": [
    "# Função para juntar palavras em uma unica sentença\n",
    "def juntar_palavras(dados):\n",
    "    array = dados\n",
    "    result = [' '.join(array)]\n",
    "    return result"
   ]
  },
  {
   "cell_type": "code",
   "execution_count": 26,
   "id": "86d0b72d",
   "metadata": {},
   "outputs": [],
   "source": [
    "# Aplicação da juntação juntar_palavras\n",
    "palavras = []\n",
    "for i in range(len(dados_semstps)):\n",
    "    a = juntar_palavras(dados_semstps[i][0])\n",
    "    palavras.append(a)"
   ]
  },
  {
   "cell_type": "code",
   "execution_count": 27,
   "id": "7a37a47a",
   "metadata": {},
   "outputs": [
    {
     "data": {
      "text/plain": [
       "['pra gostar qualidade preço acessível todo eis melhor opção']"
      ]
     },
     "execution_count": 27,
     "metadata": {},
     "output_type": "execute_result"
    }
   ],
   "source": [
    "palavras[0]"
   ]
  },
  {
   "cell_type": "markdown",
   "id": "e22c15d8",
   "metadata": {},
   "source": [
    "Montando Data Set com os textos tratados"
   ]
  },
  {
   "cell_type": "code",
   "execution_count": 28,
   "id": "597aa62d",
   "metadata": {},
   "outputs": [],
   "source": [
    "# Armazenando os textos tratados na variavel palavras_juntas\n",
    "palavras_juntas = []\n",
    "for i in range(len(palavras)):\n",
    "    a = palavras[i][0]\n",
    "    palavras_juntas.append(a)"
   ]
  },
  {
   "cell_type": "code",
   "execution_count": 29,
   "id": "a96cb51e",
   "metadata": {},
   "outputs": [],
   "source": [
    "# Armazenando target na variavel target\n",
    "target = []\n",
    "for i in range(len(dados_semstps)):\n",
    "    a = dados_semstps[i][1]\n",
    "    target.append(a)"
   ]
  },
  {
   "cell_type": "code",
   "execution_count": 30,
   "id": "a63007fa",
   "metadata": {},
   "outputs": [
    {
     "data": {
      "text/html": [
       "<div>\n",
       "<style scoped>\n",
       "    .dataframe tbody tr th:only-of-type {\n",
       "        vertical-align: middle;\n",
       "    }\n",
       "\n",
       "    .dataframe tbody tr th {\n",
       "        vertical-align: top;\n",
       "    }\n",
       "\n",
       "    .dataframe thead th {\n",
       "        text-align: right;\n",
       "    }\n",
       "</style>\n",
       "<table border=\"1\" class=\"dataframe\">\n",
       "  <thead>\n",
       "    <tr style=\"text-align: right;\">\n",
       "      <th></th>\n",
       "      <th>Texto_tratado</th>\n",
       "      <th>Target</th>\n",
       "    </tr>\n",
       "  </thead>\n",
       "  <tbody>\n",
       "    <tr>\n",
       "      <th>0</th>\n",
       "      <td>pra gostar qualidade preço acessível todo eis ...</td>\n",
       "      <td>1</td>\n",
       "    </tr>\n",
       "    <tr>\n",
       "      <th>1</th>\n",
       "      <td>gostar cancelar comprar pedir suar gentileza i...</td>\n",
       "      <td>0</td>\n",
       "    </tr>\n",
       "    <tr>\n",
       "      <th>2</th>\n",
       "      <td>gostar produto valer peno comprar atender obje...</td>\n",
       "      <td>1</td>\n",
       "    </tr>\n",
       "    <tr>\n",
       "      <th>3</th>\n",
       "      <td>autoprograma facilitar parir ter dificuldade i...</td>\n",
       "      <td>1</td>\n",
       "    </tr>\n",
       "    <tr>\n",
       "      <th>4</th>\n",
       "      <td>terceirar motorola ter poder dizer amoooo</td>\n",
       "      <td>1</td>\n",
       "    </tr>\n",
       "  </tbody>\n",
       "</table>\n",
       "</div>"
      ],
      "text/plain": [
       "                                       Texto_tratado  Target\n",
       "0  pra gostar qualidade preço acessível todo eis ...       1\n",
       "1  gostar cancelar comprar pedir suar gentileza i...       0\n",
       "2  gostar produto valer peno comprar atender obje...       1\n",
       "3  autoprograma facilitar parir ter dificuldade i...       1\n",
       "4          terceirar motorola ter poder dizer amoooo       1"
      ]
     },
     "execution_count": 30,
     "metadata": {},
     "output_type": "execute_result"
    }
   ],
   "source": [
    "# Criação do data set com os textos tratados\n",
    "dic_ajustado_modelo = { 'Texto_tratado':palavras_juntas , \n",
    "                        'Target': target }\n",
    "\n",
    "df_tratado = pd.DataFrame(dic_ajustado_modelo)\n",
    "df_tratado.head()"
   ]
  },
  {
   "cell_type": "markdown",
   "id": "69e11544",
   "metadata": {},
   "source": [
    "Após a criação do Data Set tratado, foi utilizado o metodo to_csv, para salvar o cojunto de dados. Foi realizado essa tecnicas para não ser preciso tratar novamente o conjunto de dados todas as vezes que eu fosse mexer no arquivo"
   ]
  },
  {
   "cell_type": "code",
   "execution_count": 31,
   "id": "649bbabf",
   "metadata": {},
   "outputs": [],
   "source": [
    "df_tratado.to_csv('DataSetLematizado_ES.csv',sep=';')"
   ]
  },
  {
   "cell_type": "code",
   "execution_count": 32,
   "id": "3662eafb",
   "metadata": {},
   "outputs": [],
   "source": [
    "# Importando conjunto de dados\n",
    "df_tratado = pd.read_csv('DataSetLematizado_ES.csv',sep=';')"
   ]
  },
  {
   "cell_type": "code",
   "execution_count": 33,
   "id": "e5b6a84f",
   "metadata": {},
   "outputs": [
    {
     "data": {
      "text/html": [
       "<div>\n",
       "<style scoped>\n",
       "    .dataframe tbody tr th:only-of-type {\n",
       "        vertical-align: middle;\n",
       "    }\n",
       "\n",
       "    .dataframe tbody tr th {\n",
       "        vertical-align: top;\n",
       "    }\n",
       "\n",
       "    .dataframe thead th {\n",
       "        text-align: right;\n",
       "    }\n",
       "</style>\n",
       "<table border=\"1\" class=\"dataframe\">\n",
       "  <thead>\n",
       "    <tr style=\"text-align: right;\">\n",
       "      <th></th>\n",
       "      <th>Unnamed: 0</th>\n",
       "      <th>Texto_tratado</th>\n",
       "      <th>Target</th>\n",
       "    </tr>\n",
       "  </thead>\n",
       "  <tbody>\n",
       "    <tr>\n",
       "      <th>0</th>\n",
       "      <td>0</td>\n",
       "      <td>pra gostar qualidade preço acessível todo eis ...</td>\n",
       "      <td>1</td>\n",
       "    </tr>\n",
       "    <tr>\n",
       "      <th>1</th>\n",
       "      <td>1</td>\n",
       "      <td>gostar cancelar comprar pedir suar gentileza i...</td>\n",
       "      <td>0</td>\n",
       "    </tr>\n",
       "    <tr>\n",
       "      <th>2</th>\n",
       "      <td>2</td>\n",
       "      <td>gostar produto valer peno comprar atender obje...</td>\n",
       "      <td>1</td>\n",
       "    </tr>\n",
       "    <tr>\n",
       "      <th>3</th>\n",
       "      <td>3</td>\n",
       "      <td>autoprograma facilitar parir ter dificuldade i...</td>\n",
       "      <td>1</td>\n",
       "    </tr>\n",
       "    <tr>\n",
       "      <th>4</th>\n",
       "      <td>4</td>\n",
       "      <td>terceirar motorola ter poder dizer amoooo</td>\n",
       "      <td>1</td>\n",
       "    </tr>\n",
       "  </tbody>\n",
       "</table>\n",
       "</div>"
      ],
      "text/plain": [
       "   Unnamed: 0                                      Texto_tratado  Target\n",
       "0           0  pra gostar qualidade preço acessível todo eis ...       1\n",
       "1           1  gostar cancelar comprar pedir suar gentileza i...       0\n",
       "2           2  gostar produto valer peno comprar atender obje...       1\n",
       "3           3  autoprograma facilitar parir ter dificuldade i...       1\n",
       "4           4          terceirar motorola ter poder dizer amoooo       1"
      ]
     },
     "execution_count": 33,
     "metadata": {},
     "output_type": "execute_result"
    }
   ],
   "source": [
    "df_tratado.head()"
   ]
  },
  {
   "cell_type": "markdown",
   "id": "27b15adb",
   "metadata": {},
   "source": [
    "## Modelagem"
   ]
  },
  {
   "cell_type": "markdown",
   "id": "dab5687c",
   "metadata": {},
   "source": [
    "Como primeira etapada da modelo fazemos a vetorização dos textos, para isso utilizaremos a o metodo CountVectorizer da biblioteca do sklearn"
   ]
  },
  {
   "cell_type": "code",
   "execution_count": 34,
   "id": "facdf66d",
   "metadata": {},
   "outputs": [],
   "source": [
    "import sklearn\n",
    "from sklearn.feature_extraction.text import CountVectorizer"
   ]
  },
  {
   "cell_type": "code",
   "execution_count": 35,
   "id": "327ba6d2",
   "metadata": {},
   "outputs": [],
   "source": [
    "# O pré-processamento a seguir é feito para uso com o scikit-learn.\n",
    "# A função entrega strings, tokens.\n",
    "def preproc(sent):\n",
    "    tokens = nltk.tokenize.word_tokenize(sent)\n",
    "    tokens = [t.lower() for t in tokens if t.isalpha()]\n",
    "    tokens = [t for t in tokens if t not in stops]\n",
    "    \n",
    "    return ' '.join(tokens)"
   ]
  },
  {
   "cell_type": "code",
   "execution_count": 36,
   "id": "da6c0470",
   "metadata": {},
   "outputs": [
    {
     "name": "stderr",
     "output_type": "stream",
     "text": [
      "C:\\Users\\Luciano\\anaconda3\\lib\\site-packages\\sklearn\\utils\\deprecation.py:87: FutureWarning: Function get_feature_names is deprecated; get_feature_names is deprecated in 1.0 and will be removed in 1.2. Please use get_feature_names_out instead.\n",
      "  warnings.warn(msg, category=FutureWarning)\n"
     ]
    }
   ],
   "source": [
    "vetorizador = CountVectorizer(preprocessor=preproc)  # Cria o vetor de contagem\n",
    "td = vetorizador.fit_transform(df_tratado['Texto_tratado'].values.astype('U'))  # Calcula o vocabulário e gera uma matriz Termos-Documentos\n",
    "termos = vetorizador.get_feature_names()  # Gera uma lista dos atributos (i.e, do vocabulário)"
   ]
  },
  {
   "cell_type": "code",
   "execution_count": 37,
   "id": "e86e1b5f",
   "metadata": {},
   "outputs": [],
   "source": [
    "# Variaveis de entrada\n",
    "X = td.toarray()"
   ]
  },
  {
   "cell_type": "code",
   "execution_count": 38,
   "id": "5d055b8c",
   "metadata": {},
   "outputs": [],
   "source": [
    "# Variaveis target\n",
    "y = df_tratado['Target'].to_numpy()"
   ]
  },
  {
   "cell_type": "code",
   "execution_count": 39,
   "id": "aee50235",
   "metadata": {},
   "outputs": [
    {
     "data": {
      "text/plain": [
       "4358"
      ]
     },
     "execution_count": 39,
     "metadata": {},
     "output_type": "execute_result"
    }
   ],
   "source": [
    "len(X[0])"
   ]
  },
  {
   "cell_type": "markdown",
   "id": "47c99d7e",
   "metadata": {},
   "source": [
    "## Separando dados de treino e dados de test - 80% Train 20% test"
   ]
  },
  {
   "cell_type": "markdown",
   "id": "caa252a1",
   "metadata": {},
   "source": [
    "Nessa etapa o conjunto de dados sera separado em train e test. Porem como o conjunto de dados está desbalanceado, usaremos tecnicas de balacear o conjunto de dados de train."
   ]
  },
  {
   "cell_type": "code",
   "execution_count": 40,
   "id": "7c5dfad2",
   "metadata": {},
   "outputs": [],
   "source": [
    "## Separando dados de treino e dados de test - 80% Train 20% test\n",
    "from sklearn.model_selection import train_test_split\n",
    "\n",
    "input_train, input_test, y_train, y_test = train_test_split(X, y, test_size=.2)"
   ]
  },
  {
   "cell_type": "code",
   "execution_count": 41,
   "id": "3bb48846",
   "metadata": {},
   "outputs": [],
   "source": [
    "# Utilizando metodo Random Under Sampler, para equilibrar conjunto de dados de train\n",
    "from imblearn.under_sampling import RandomUnderSampler\n",
    "input_resample_train , y_resample_train =RandomUnderSampler().fit_resample(input_train,y_train)"
   ]
  },
  {
   "cell_type": "markdown",
   "id": "1166126d",
   "metadata": {},
   "source": [
    "## Nave Bayes Bernoulli"
   ]
  },
  {
   "cell_type": "markdown",
   "id": "91f84dec",
   "metadata": {},
   "source": [
    "Como primiera modelagem, estou usando o modelo nave bayes para analisar o desempenho. O modelo Nave bayes"
   ]
  },
  {
   "cell_type": "code",
   "execution_count": 42,
   "id": "38a37627",
   "metadata": {},
   "outputs": [],
   "source": [
    "from sklearn.naive_bayes import BernoulliNB\n",
    "\n",
    "#Calling the Class\n",
    "naive_bayes = BernoulliNB()\n",
    " \n",
    "#Fitting the data to the classifier\n",
    "naive_bayes.fit(input_resample_train , y_resample_train)\n",
    " \n",
    "#Predict on test data\n",
    "y_predicted = naive_bayes.predict(input_test)"
   ]
  },
  {
   "cell_type": "code",
   "execution_count": 43,
   "id": "676438b5",
   "metadata": {},
   "outputs": [],
   "source": [
    "from sklearn.metrics import classification_report\n",
    "from sklearn.metrics import confusion_matrix"
   ]
  },
  {
   "cell_type": "markdown",
   "id": "4c9a9a7a",
   "metadata": {},
   "source": [
    "Analisando resultados do modelo"
   ]
  },
  {
   "cell_type": "code",
   "execution_count": 44,
   "id": "3c488ca9",
   "metadata": {},
   "outputs": [
    {
     "name": "stdout",
     "output_type": "stream",
     "text": [
      "              precision    recall  f1-score   support\n",
      "\n",
      "           0       0.71      0.72      0.72       171\n",
      "           1       0.89      0.89      0.89       440\n",
      "\n",
      "    accuracy                           0.84       611\n",
      "   macro avg       0.80      0.80      0.80       611\n",
      "weighted avg       0.84      0.84      0.84       611\n",
      "\n"
     ]
    }
   ],
   "source": [
    "print(classification_report(y_test, y_predicted))"
   ]
  },
  {
   "cell_type": "code",
   "execution_count": 45,
   "id": "077b70c4",
   "metadata": {},
   "outputs": [
    {
     "name": "stdout",
     "output_type": "stream",
     "text": [
      "[[123  48]\n",
      " [ 50 390]]\n"
     ]
    }
   ],
   "source": [
    "print(confusion_matrix(y_test, y_predicted))"
   ]
  },
  {
   "cell_type": "markdown",
   "id": "653b52bf",
   "metadata": {},
   "source": [
    "Como resultado o modelo Naves Bayes apresentou 84% de acuracia"
   ]
  },
  {
   "cell_type": "markdown",
   "id": "6e8d5a98",
   "metadata": {},
   "source": [
    "## Redes Neurais Bert"
   ]
  },
  {
   "cell_type": "markdown",
   "id": "b419785f",
   "metadata": {},
   "source": [
    "Foi utilizado abordagem com redes neurais - bert também, para verificar se tinha um desempenhar melhor do que o modelo Naves Bayes.\n",
    "No caso das redes bert, foi modelado 2 modelos, 1 usando bert + modelo de regressão logistica, e outro usando bert + redes neurais recorrentes"
   ]
  },
  {
   "cell_type": "code",
   "execution_count": 34,
   "id": "afbbbd68",
   "metadata": {},
   "outputs": [],
   "source": [
    "#df = pd.read_csv('Dataset_nao_Lematizado_ES.csv',sep=';')"
   ]
  },
  {
   "cell_type": "code",
   "execution_count": 4,
   "id": "69516426",
   "metadata": {},
   "outputs": [
    {
     "data": {
      "text/html": [
       "<div>\n",
       "<style scoped>\n",
       "    .dataframe tbody tr th:only-of-type {\n",
       "        vertical-align: middle;\n",
       "    }\n",
       "\n",
       "    .dataframe tbody tr th {\n",
       "        vertical-align: top;\n",
       "    }\n",
       "\n",
       "    .dataframe thead th {\n",
       "        text-align: right;\n",
       "    }\n",
       "</style>\n",
       "<table border=\"1\" class=\"dataframe\">\n",
       "  <thead>\n",
       "    <tr style=\"text-align: right;\">\n",
       "      <th></th>\n",
       "      <th>Texto_tratado</th>\n",
       "      <th>Target</th>\n",
       "    </tr>\n",
       "  </thead>\n",
       "  <tbody>\n",
       "    <tr>\n",
       "      <th>0</th>\n",
       "      <td>pra gostar qualidade preço acessível todo eis ...</td>\n",
       "      <td>1</td>\n",
       "    </tr>\n",
       "    <tr>\n",
       "      <th>1</th>\n",
       "      <td>gostar cancelar comprar pedir suar gentileza i...</td>\n",
       "      <td>0</td>\n",
       "    </tr>\n",
       "    <tr>\n",
       "      <th>2</th>\n",
       "      <td>gostar produto valer peno comprar atender obje...</td>\n",
       "      <td>1</td>\n",
       "    </tr>\n",
       "    <tr>\n",
       "      <th>3</th>\n",
       "      <td>autoprograma facilitar parir ter dificuldade i...</td>\n",
       "      <td>1</td>\n",
       "    </tr>\n",
       "    <tr>\n",
       "      <th>4</th>\n",
       "      <td>terceirar motorola ter poder dizer amoooo</td>\n",
       "      <td>1</td>\n",
       "    </tr>\n",
       "  </tbody>\n",
       "</table>\n",
       "</div>"
      ],
      "text/plain": [
       "                                       Texto_tratado  Target\n",
       "0  pra gostar qualidade preço acessível todo eis ...       1\n",
       "1  gostar cancelar comprar pedir suar gentileza i...       0\n",
       "2  gostar produto valer peno comprar atender obje...       1\n",
       "3  autoprograma facilitar parir ter dificuldade i...       1\n",
       "4          terceirar motorola ter poder dizer amoooo       1"
      ]
     },
     "execution_count": 4,
     "metadata": {},
     "output_type": "execute_result"
    }
   ],
   "source": [
    "df= df_tratado[['Texto_tratado','Target']]\n",
    "#df= df[['review_text','recommend_to_a_friend']]\n",
    "\n",
    "df.head()"
   ]
  },
  {
   "cell_type": "markdown",
   "id": "01221b6e",
   "metadata": {},
   "source": [
    "Importando bibliotecas"
   ]
  },
  {
   "cell_type": "code",
   "execution_count": 5,
   "id": "9236e542",
   "metadata": {},
   "outputs": [],
   "source": [
    "import transformers\n",
    "from transformers import BertModel, BertTokenizer, AdamW, get_linear_schedule_with_warmup"
   ]
  },
  {
   "cell_type": "code",
   "execution_count": 6,
   "id": "63127e1a",
   "metadata": {},
   "outputs": [],
   "source": [
    "import torch\n",
    "import numpy as np\n",
    "from torch.utils.data import Dataset, DataLoader\n",
    "import torch.nn as nn\n",
    "from sklearn.model_selection import train_test_split"
   ]
  },
  {
   "cell_type": "code",
   "execution_count": 7,
   "id": "ea357cea",
   "metadata": {},
   "outputs": [
    {
     "name": "stderr",
     "output_type": "stream",
     "text": [
      "Some weights of the model checkpoint at neuralmind/bert-large-portuguese-cased were not used when initializing BertModel: ['cls.predictions.bias', 'cls.predictions.decoder.weight', 'cls.predictions.transform.LayerNorm.weight', 'cls.seq_relationship.weight', 'cls.predictions.transform.dense.weight', 'cls.predictions.transform.LayerNorm.bias', 'cls.seq_relationship.bias', 'cls.predictions.transform.dense.bias']\n",
      "- This IS expected if you are initializing BertModel from the checkpoint of a model trained on another task or with another architecture (e.g. initializing a BertForSequenceClassification model from a BertForPreTraining model).\n",
      "- This IS NOT expected if you are initializing BertModel from the checkpoint of a model that you expect to be exactly identical (initializing a BertForSequenceClassification model from a BertForSequenceClassification model).\n"
     ]
    }
   ],
   "source": [
    "PRE_TRAINED_MODEL_NAME = 'neuralmind/bert-large-portuguese-cased'\n",
    "\n",
    "tokenizer = BertTokenizer.from_pretrained(PRE_TRAINED_MODEL_NAME)\n",
    "model = BertModel.from_pretrained(PRE_TRAINED_MODEL_NAME)"
   ]
  },
  {
   "cell_type": "code",
   "execution_count": 8,
   "id": "6b7507c2",
   "metadata": {},
   "outputs": [],
   "source": [
    "#Preparando os dados para o BERT\n",
    "tokenized = df['Texto_tratado'].apply((lambda x: tokenizer.encode(x, add_special_tokens=True)))"
   ]
  },
  {
   "cell_type": "code",
   "execution_count": 9,
   "id": "dfda5db0",
   "metadata": {},
   "outputs": [
    {
     "data": {
      "text/plain": [
       "[101, 7184, 9887, 8977, 13239, 9466, 934, 102]"
      ]
     },
     "execution_count": 9,
     "metadata": {},
     "output_type": "execute_result"
    }
   ],
   "source": [
    "tokenized[5]"
   ]
  },
  {
   "cell_type": "code",
   "execution_count": 10,
   "id": "27955b82",
   "metadata": {},
   "outputs": [],
   "source": [
    "#Padronizando todas as entradas para que tenham o mesmo tamanho\n",
    "max_len = 0\n",
    "for i in tokenized.values:\n",
    "    if len(i) > max_len:\n",
    "        max_len = len(i)\n",
    "\n",
    "padded = np.array([i + [0]*(max_len-len(i)) for i in tokenized.values])"
   ]
  },
  {
   "cell_type": "code",
   "execution_count": 11,
   "id": "14901198",
   "metadata": {},
   "outputs": [],
   "source": [
    "# Criando variaveis de entrada e target\n",
    "features = padded\n",
    "labels = df['Target']"
   ]
  },
  {
   "cell_type": "code",
   "execution_count": 12,
   "id": "c008152a",
   "metadata": {},
   "outputs": [],
   "source": [
    "## Separando dados de treino e dados de test - 80% Train 20% test\n",
    "from sklearn.model_selection import train_test_split"
   ]
  },
  {
   "cell_type": "code",
   "execution_count": 13,
   "id": "abcc46ae",
   "metadata": {},
   "outputs": [],
   "source": [
    "## Separando dados de treino e dados de test - 80% Train 20% test\n",
    "train_features, test_features, train_labels, test_labels = train_test_split(features, labels, test_size=.2)"
   ]
  },
  {
   "cell_type": "code",
   "execution_count": 14,
   "id": "e8db49a4",
   "metadata": {},
   "outputs": [],
   "source": [
    "# Utilizando metodo Random Under Sampler, para equilibrar conjunto de dados de train\n",
    "from imblearn.under_sampling import RandomUnderSampler\n",
    "input_resample_train , y_resample_train =RandomUnderSampler().fit_resample(train_features,train_labels)"
   ]
  },
  {
   "cell_type": "code",
   "execution_count": 15,
   "id": "d7f089ac",
   "metadata": {},
   "outputs": [],
   "source": [
    "from sklearn.linear_model import LogisticRegression\n",
    "from sklearn.naive_bayes import BernoulliNB\n",
    "\n",
    "from sklearn.metrics import classification_report\n",
    "from sklearn.metrics import confusion_matrix"
   ]
  },
  {
   "cell_type": "markdown",
   "id": "4211157e",
   "metadata": {},
   "source": [
    "Criando modelo de regressão logistica para ser aplicado depois do bert"
   ]
  },
  {
   "cell_type": "code",
   "execution_count": 27,
   "id": "817a9457",
   "metadata": {},
   "outputs": [
    {
     "name": "stderr",
     "output_type": "stream",
     "text": [
      "C:\\Users\\Luciano\\anaconda3\\lib\\site-packages\\sklearn\\linear_model\\_logistic.py:814: ConvergenceWarning: lbfgs failed to converge (status=1):\n",
      "STOP: TOTAL NO. of ITERATIONS REACHED LIMIT.\n",
      "\n",
      "Increase the number of iterations (max_iter) or scale the data as shown in:\n",
      "    https://scikit-learn.org/stable/modules/preprocessing.html\n",
      "Please also refer to the documentation for alternative solver options:\n",
      "    https://scikit-learn.org/stable/modules/linear_model.html#logistic-regression\n",
      "  n_iter_i = _check_optimize_result(\n"
     ]
    }
   ],
   "source": [
    "lr = LogisticRegression()\n",
    "\n",
    "lr.fit(input_resample_train, y_resample_train)\n",
    "\n",
    "#Predict on test data\n",
    "y_predicted = lr.predict(test_features)"
   ]
  },
  {
   "cell_type": "markdown",
   "id": "930e0a3a",
   "metadata": {},
   "source": [
    "Resultados modelo bert + regressão logistica"
   ]
  },
  {
   "cell_type": "code",
   "execution_count": 28,
   "id": "19946b2e",
   "metadata": {},
   "outputs": [
    {
     "name": "stdout",
     "output_type": "stream",
     "text": [
      "              precision    recall  f1-score   support\n",
      "\n",
      "           0       0.45      0.59      0.51       150\n",
      "           1       0.85      0.77      0.81       461\n",
      "\n",
      "    accuracy                           0.72       611\n",
      "   macro avg       0.65      0.68      0.66       611\n",
      "weighted avg       0.75      0.72      0.73       611\n",
      "\n"
     ]
    }
   ],
   "source": [
    "print(classification_report(test_labels, y_predicted))"
   ]
  },
  {
   "cell_type": "markdown",
   "id": "3bbd5e79",
   "metadata": {},
   "source": [
    "Criando rede neural recorrente para ser utilizada depois do bert"
   ]
  },
  {
   "cell_type": "code",
   "execution_count": 16,
   "id": "190236ea",
   "metadata": {},
   "outputs": [],
   "source": [
    "from keras.layers import SimpleRNN, Embedding, Dense , SpatialDropout1D\n",
    "from keras.models import Sequential\n",
    "from tensorflow.keras import optimizers\n",
    "import tensorflow as tf\n",
    "\n",
    "\n",
    "# O número máximo de palavras a serem usadas. (mais frequente) \n",
    "MAX_NB_WORDS = 100000\n",
    "# Número máximo de palavras em cada reclamação. \n",
    "MAX_SEQUENCE_LENGTH = 100000\n",
    "# Isso foi corrigido. \n",
    "EMBEDDING_DIM = 64\n",
    "\n",
    "model = Sequential()\n",
    "model.add(Embedding(MAX_NB_WORDS, EMBEDDING_DIM, input_length=features.shape[1]))\n",
    "model.add(SpatialDropout1D(0.2))\n",
    "model.add(SimpleRNN(32, return_sequences=True))\n",
    "model.add(SimpleRNN(32, return_sequences=True))\n",
    "model.add(Dense(1, activation='sigmoid'))\n",
    "model.compile(loss='binary_crossentropy', optimizer='adam', metrics=['accuracy'])"
   ]
  },
  {
   "cell_type": "code",
   "execution_count": 17,
   "id": "348cc056",
   "metadata": {},
   "outputs": [
    {
     "name": "stdout",
     "output_type": "stream",
     "text": [
      "Epoch 1/10\n",
      "88/88 [==============================] - 54s 540ms/step - loss: 0.6951 - accuracy: 0.5075\n",
      "Epoch 2/10\n",
      "88/88 [==============================] - 45s 513ms/step - loss: 0.6279 - accuracy: 0.6342\n",
      "Epoch 3/10\n",
      "88/88 [==============================] - 45s 515ms/step - loss: 0.5472 - accuracy: 0.7663\n",
      "Epoch 4/10\n",
      "88/88 [==============================] - 46s 522ms/step - loss: 0.5185 - accuracy: 0.7772\n",
      "Epoch 5/10\n",
      "88/88 [==============================] - 46s 519ms/step - loss: 0.3705 - accuracy: 0.8774\n",
      "Epoch 6/10\n",
      "88/88 [==============================] - 48s 541ms/step - loss: 0.3407 - accuracy: 0.8915\n",
      "Epoch 7/10\n",
      "88/88 [==============================] - 46s 519ms/step - loss: 0.3493 - accuracy: 0.8862\n",
      "Epoch 8/10\n",
      "88/88 [==============================] - 47s 539ms/step - loss: 0.2733 - accuracy: 0.9203\n",
      "Epoch 9/10\n",
      "88/88 [==============================] - 48s 544ms/step - loss: 0.2325 - accuracy: 0.9364\n",
      "Epoch 10/10\n",
      "88/88 [==============================] - 46s 522ms/step - loss: 0.3660 - accuracy: 0.8851\n"
     ]
    }
   ],
   "source": [
    "# treinamento do modelo com 10 epocas\n",
    "epochs = 10\n",
    "batch_size = 16 #514\n",
    "\n",
    "history = model.fit(input_resample_train, y_resample_train, epochs=epochs, batch_size=batch_size)"
   ]
  },
  {
   "cell_type": "markdown",
   "id": "55f46ca5",
   "metadata": {},
   "source": [
    "Analisando os resultados"
   ]
  },
  {
   "cell_type": "code",
   "execution_count": 18,
   "id": "120f043f",
   "metadata": {},
   "outputs": [
    {
     "name": "stdout",
     "output_type": "stream",
     "text": [
      "20/20 [==============================] - 4s 121ms/step - loss: 0.4824 - accuracy: 0.8234\n"
     ]
    }
   ],
   "source": [
    "avaliacao = model.evaluate(test_features,test_labels)"
   ]
  },
  {
   "cell_type": "markdown",
   "id": "34ecd254",
   "metadata": {},
   "source": [
    "## Conclusão"
   ]
  },
  {
   "cell_type": "markdown",
   "id": "dfe335c6",
   "metadata": {},
   "source": [
    "Para esse case foi densenvolvido modelos envolvendo tecnicas de machine learning (nave bayes) e tecnicas de deep learning (bert + regressão logistica e bert + redes neurais recorrentes.\n",
    "\n",
    "Os modelos nave bayes e bert + redes neurais recorrentes apresentaram melhores resultados de acuracia onde, obtiveram 82% nos dados de treino"
   ]
  },
  {
   "cell_type": "markdown",
   "id": "7e461087",
   "metadata": {},
   "source": [
    "## Deploy do Modelo"
   ]
  },
  {
   "cell_type": "markdown",
   "id": "4b72b1f6",
   "metadata": {},
   "source": [
    "Nesta etapa sera salvo os arquivos que sera utilizados como base para criação da api, para o deploy do modelo"
   ]
  },
  {
   "cell_type": "code",
   "execution_count": 48,
   "id": "9d085bb9",
   "metadata": {},
   "outputs": [
    {
     "data": {
      "text/plain": [
       "['model.pkl']"
      ]
     },
     "execution_count": 48,
     "metadata": {},
     "output_type": "execute_result"
    }
   ],
   "source": [
    "# Salvando modelo naves bayes\n",
    "import joblib\n",
    "\n",
    "joblib.dump(naive_bayes, 'model.pkl')"
   ]
  },
  {
   "cell_type": "code",
   "execution_count": 50,
   "id": "a969fcc5",
   "metadata": {},
   "outputs": [],
   "source": [
    "# Salvando dicionario de palavras\n",
    "with open('Dicionario_palavras.txt','w') as arquivo:\n",
    "    for palavra in termos:\n",
    "        arquivo.write(\"'\" + str(palavra) + \"'\" + \",\")"
   ]
  },
  {
   "cell_type": "code",
   "execution_count": 51,
   "id": "afb57c74",
   "metadata": {},
   "outputs": [],
   "source": [
    "# Salvando stops words\n",
    "with open('Stops_words.txt','w') as arquivo:\n",
    "    for palavra in stops:\n",
    "        arquivo.write(\"'\" + str(palavra) + \"'\" + \",\")"
   ]
  }
 ],
 "metadata": {
  "kernelspec": {
   "display_name": "Python 3",
   "language": "python",
   "name": "python3"
  },
  "language_info": {
   "codemirror_mode": {
    "name": "ipython",
    "version": 3
   },
   "file_extension": ".py",
   "mimetype": "text/x-python",
   "name": "python",
   "nbconvert_exporter": "python",
   "pygments_lexer": "ipython3",
   "version": "3.8.8"
  }
 },
 "nbformat": 4,
 "nbformat_minor": 5
}
